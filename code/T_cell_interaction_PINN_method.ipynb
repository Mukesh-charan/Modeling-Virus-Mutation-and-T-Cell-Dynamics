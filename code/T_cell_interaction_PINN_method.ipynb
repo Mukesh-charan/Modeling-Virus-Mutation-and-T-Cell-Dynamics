{
  "cells": [
    {
      "cell_type": "markdown",
      "source": [
        "# **PINN Method**"
      ],
      "metadata": {
        "id": "o_GU7-dmC3-i"
      }
    },
    {
      "cell_type": "markdown",
      "metadata": {
        "id": "tbvITuUjr47f"
      },
      "source": [
        "# **Import required libraries**"
      ]
    },
    {
      "cell_type": "code",
      "source": [
        "import numpy as np\n",
        "import tensorflow as tf\n",
        "from tensorflow import keras\n",
        "from tensorflow.keras import layers\n",
        "import matplotlib.pyplot as plt"
      ],
      "metadata": {
        "id": "qwtHnac2BJOB"
      },
      "execution_count": null,
      "outputs": []
    },
    {
      "cell_type": "markdown",
      "source": [
        "# **Define the PINN Model Architecture**"
      ],
      "metadata": {
        "id": "8KKWHGLOBO_X"
      }
    },
    {
      "cell_type": "code",
      "source": [
        "# Define the PINN model with a modified architecture\n",
        "def create_model():\n",
        "    model = keras.Sequential([\n",
        "        layers.Input(shape=(1,)),  # Input layer\n",
        "        layers.Dense(128, activation='relu'),  # Hidden layer 1 with more neurons\n",
        "        layers.Dense(128, activation='relu'),  # Hidden layer 2 with more neurons\n",
        "        layers.Dense(64, activation='relu'),   # Additional hidden layer\n",
        "        layers.Dense(4)  # Output layer for T, TA, TL, and V\n",
        "    ])\n",
        "    return model"
      ],
      "metadata": {
        "id": "9c-JL4DfBNs6"
      },
      "execution_count": null,
      "outputs": []
    },
    {
      "cell_type": "markdown",
      "source": [
        "# **Define the Loss Function**"
      ],
      "metadata": {
        "id": "WIPoLffFBZ_I"
      }
    },
    {
      "cell_type": "code",
      "source": [
        "# Define the loss function for PINN\n",
        "def pinn_loss(y_true, y_pred):\n",
        "    mse_loss = tf.reduce_mean(tf.square(y_true - y_pred))  # MSE loss\n",
        "    return mse_loss\n"
      ],
      "metadata": {
        "id": "x2OyRAp9BhdM"
      },
      "execution_count": null,
      "outputs": []
    },
    {
      "cell_type": "markdown",
      "source": [
        "# **Generate Training Data**"
      ],
      "metadata": {
        "id": "pskKXkcbBoPL"
      }
    },
    {
      "cell_type": "code",
      "source": [
        "def generate_training_data(s, r, Tmax, mu, k1, k2, beta, alpha, N, dt, time_steps):\n",
        "    T = np.zeros(time_steps)\n",
        "    TA = np.zeros(time_steps)\n",
        "    TL = np.zeros(time_steps)\n",
        "    V = np.zeros(time_steps)\n",
        "\n",
        "    T[0], TA[0], TL[0], V[0] = 1000, 0, 0, 0.001  # Reduced initial concentrations\n",
        "\n",
        "    for i in range(1, time_steps):\n",
        "        dT = s + r * T[i - 1] * (1 - (T[i - 1] + TA[i - 1] + TL[i - 1]) / Tmax) - mu * T[i - 1] - k1 * V[i - 1] * T[i - 1]\n",
        "        dTA = k1 * V[i - 1] * T[i - 1] - mu * TA[i - 1] - k2 * TL[i - 1]\n",
        "        dTL = k2 * TL[i - 1] - beta * TA[i - 1]\n",
        "        dV = N * beta * TA[i - 1] - k1 * V[i - 1] * T[i - 1] - alpha * V[i - 1]\n",
        "\n",
        "        T[i] = T[i - 1] + dT * dt\n",
        "        TA[i] = TA[i - 1] + dTA * dt\n",
        "        TL[i] = TL[i - 1] + dTL * dt\n",
        "        V[i] = V[i - 1] + dV * dt\n",
        "\n",
        "    time = np.arange(0, time_steps * dt, dt)\n",
        "    return time, T, TA, TL, V\n"
      ],
      "metadata": {
        "id": "k9Vdw5XrBrp2"
      },
      "execution_count": null,
      "outputs": []
    },
    {
      "cell_type": "markdown",
      "source": [
        "# **Initialize the Parameters**"
      ],
      "metadata": {
        "id": "dFaF6FpZBu_p"
      }
    },
    {
      "cell_type": "code",
      "source": [
        "# Parameters for the differential equations\n",
        "s = 10\n",
        "r = 0.03\n",
        "Tmax = 1500\n",
        "mu = 0.02\n",
        "k1 = 0.000024\n",
        "k2 = 0.003\n",
        "beta = 0.24\n",
        "alpha = 2.4\n",
        "N = 1400\n",
        "\n",
        "# Time parameters\n",
        "dt = 0.1  # Time step\n",
        "time_steps = 130  # Number of time steps\n"
      ],
      "metadata": {
        "id": "Vr67CirIBx_F"
      },
      "execution_count": null,
      "outputs": []
    },
    {
      "cell_type": "markdown",
      "source": [
        "# **Generate and Normalize Training Data**"
      ],
      "metadata": {
        "id": "-pyNUTLjB8_k"
      }
    },
    {
      "cell_type": "code",
      "source": [
        "# Generate training data\n",
        "time, T, TA, TL, V = generate_training_data(s, r, Tmax, mu, k1, k2, beta, alpha, N, dt, time_steps)\n",
        "\n",
        "# Normalize the training data\n",
        "time_mean, time_std = time.mean(), time.std()\n",
        "T_mean, T_std = T.mean(), T.std()\n",
        "TA_mean, TA_std = TA.mean(), TA.std()\n",
        "TL_mean, TL_std = TL.mean(), TL.std()\n",
        "V_mean, V_std = V.mean(), V.std()\n",
        "\n",
        "time = (time - time_mean) / time_std\n",
        "T = (T - T_mean) / T_std\n",
        "TA = (TA - TA_mean) / TA_std\n",
        "TL = (TL - TL_mean) / TL_std\n",
        "V = (V - V_mean) / V_std\n"
      ],
      "metadata": {
        "id": "C6ubv6DkBzt6"
      },
      "execution_count": null,
      "outputs": []
    },
    {
      "cell_type": "markdown",
      "source": [
        "# **Define the Model and Compile**"
      ],
      "metadata": {
        "id": "XXsW4UIQCADD"
      }
    },
    {
      "cell_type": "code",
      "source": [
        "# Define the PINN model\n",
        "model = create_model()\n",
        "\n",
        "# Compile the model with a lower learning rate\n",
        "model.compile(optimizer=keras.optimizers.Adam(learning_rate=1e-4), loss=pinn_loss)\n"
      ],
      "metadata": {
        "id": "Opc5qXrMCDbq"
      },
      "execution_count": null,
      "outputs": []
    },
    {
      "cell_type": "markdown",
      "source": [
        "# **Train the Model**"
      ],
      "metadata": {
        "id": "NP9NNvuCCIOO"
      }
    },
    {
      "cell_type": "code",
      "source": [
        "# Train the model for more epochs\n",
        "x_train = time.reshape(-1, 1)\n",
        "y_train = np.column_stack((T, TA, TL, V))\n",
        "model.fit(x_train, y_train, epochs=2000, verbose=1)\n"
      ],
      "metadata": {
        "id": "E4WZIhObCJVk"
      },
      "execution_count": null,
      "outputs": []
    },
    {
      "cell_type": "markdown",
      "source": [
        "# **Make Predictions and Denormalize**"
      ],
      "metadata": {
        "id": "O4cUN2coCM6s"
      }
    },
    {
      "cell_type": "code",
      "source": [
        "# Predict using the trained model\n",
        "predictions = model.predict(x_train)\n",
        "\n",
        "# Denormalize the predictions\n",
        "predictions = predictions * np.array([T_std, TA_std, TL_std, V_std]) + np.array([T_mean, TA_mean, TL_mean, V_mean])\n"
      ],
      "metadata": {
        "id": "fAAZrP41CMee"
      },
      "execution_count": null,
      "outputs": []
    },
    {
      "cell_type": "markdown",
      "source": [
        "# **Visualization**"
      ],
      "metadata": {
        "id": "MoCr05C9CRcP"
      }
    },
    {
      "cell_type": "code",
      "source": [
        "# Plot the concentrations over time\n",
        "plt.figure(figsize=(10, 6))\n",
        "plt.plot(time * time_std + time_mean, T * T_std + T_mean, label='T')\n",
        "plt.plot(time * time_std + time_mean, TA * TA_std + TA_mean, label='TA')\n",
        "plt.plot(time * time_std + time_mean, TL * TL_std + TL_mean, label='TL')\n",
        "plt.plot(time * time_std + time_mean, V * V_std + V_mean, label='V')\n",
        "plt.plot(time * time_std + time_mean, predictions[:, 0], label='Predicted T')\n",
        "plt.plot(time * time_std + time_mean, predictions[:, 1], label='Predicted TA')\n",
        "plt.plot(time * time_std + time_mean, predictions[:, 2], label='Predicted TL')\n",
        "plt.plot(time * time_std + time_mean, predictions[:, 3], label='Predicted V')\n",
        "plt.xlabel('Time')\n",
        "plt.ylabel('Concentration')\n",
        "plt.title('Concentration vs Time')\n",
        "plt.legend()\n",
        "plt.grid(True)\n",
        "plt.show()\n"
      ],
      "metadata": {
        "id": "PQRCKTOCCSu1"
      },
      "execution_count": null,
      "outputs": []
    },
    {
      "cell_type": "markdown",
      "source": [
        "# **Visualization of T-cell Interactions**"
      ],
      "metadata": {
        "id": "kye7qmxSCYlr"
      }
    },
    {
      "cell_type": "code",
      "execution_count": null,
      "metadata": {
        "colab": {
          "background_save": true
        },
        "id": "uwCuBP9Ko0io",
        "outputId": "6368fbe7-2dfc-493c-ca7d-c499f2b258a9"
      },
      "outputs": [
        {
          "data": {
            "image/png": "[encoded data removed]",
            "text/plain": [
              "<Figure size 1000x600 with 1 Axes>"
            ]
          },
          "metadata": {},
          "output_type": "display_data"
        }
      ],
      "source": [
        "plt.figure(figsize=(10, 6))\n",
        "plt.plot(time * time_std + time_mean, T * T_std + T_mean, label='T')\n",
        "plt.plot(time * time_std + time_mean, TA * TA_std + TA_mean, label='TA')\n",
        "plt.plot(time * time_std + time_mean, TL * TL_std + TL_mean, label='TL')\n",
        "#plt.plot(time * time_std + time_mean, V * V_std + V_mean, label='V')\n",
        "plt.plot(time * time_std + time_mean, predictions[:, 0], label='Predicted T')\n",
        "plt.plot(time * time_std + time_mean, predictions[:, 1], label='Predicted TA')\n",
        "plt.plot(time * time_std + time_mean, predictions[:, 2], label='Predicted TL')\n",
        "#plt.plot(time * time_std + time_mean, predictions[:, 3], label='Predicted V')\n",
        "plt.xlabel('Time')\n",
        "plt.ylabel('Concentration')\n",
        "plt.title('Concentration vs Time')\n",
        "plt.legend()\n",
        "plt.grid(True)\n",
        "plt.show()"
      ]
    },
    {
      "cell_type": "markdown",
      "source": [
        "# **Visualization of T-cell Interactions**"
      ],
      "metadata": {
        "id": "He9ivQBcEAfO"
      }
    },
    {
      "cell_type": "code",
      "source": [
        "plt.plot(time, T, label='T')\n",
        "plt.plot(time, TA, label='TA')\n",
        "plt.plot(time, TL, label='TL')\n",
        "#plt.plot(time, V, label='V')\n",
        "plt.xlabel('Time')\n",
        "plt.ylabel('Concentration')\n",
        "plt.legend()\n",
        "plt.show()"
      ],
      "metadata": {
        "id": "wcOiFJrvD9Zt"
      },
      "execution_count": null,
      "outputs": []
    }
  ],
  "metadata": {
    "colab": {
      "provenance": []
    },
    "kernelspec": {
      "display_name": "Python 3",
      "name": "python3"
    },
    "language_info": {
      "name": "python"
    }
  },
  "nbformat": 4,
  "nbformat_minor": 0
}